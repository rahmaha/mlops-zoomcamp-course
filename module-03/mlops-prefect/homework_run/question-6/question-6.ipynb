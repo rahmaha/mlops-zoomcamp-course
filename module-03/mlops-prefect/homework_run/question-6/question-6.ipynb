{
 "cells": [
  {
   "cell_type": "code",
   "execution_count": 1,
   "metadata": {},
   "outputs": [
    {
     "ename": "ModuleNotFoundError",
     "evalue": "No module named 'prefect'",
     "output_type": "error",
     "traceback": [
      "\u001b[1;31m---------------------------------------------------------------------------\u001b[0m",
      "\u001b[1;31mModuleNotFoundError\u001b[0m                       Traceback (most recent call last)",
      "Cell \u001b[1;32mIn[1], line 4\u001b[0m\n\u001b[0;32m      2\u001b[0m \u001b[38;5;28;01mfrom\u001b[39;00m \u001b[38;5;21;01msklearn\u001b[39;00m\u001b[38;5;21;01m.\u001b[39;00m\u001b[38;5;21;01mfeature_extraction\u001b[39;00m \u001b[38;5;28;01mimport\u001b[39;00m DictVectorizer\n\u001b[0;32m      3\u001b[0m \u001b[38;5;28;01mfrom\u001b[39;00m \u001b[38;5;21;01msklearn\u001b[39;00m\u001b[38;5;21;01m.\u001b[39;00m\u001b[38;5;21;01mlinear_model\u001b[39;00m \u001b[38;5;28;01mimport\u001b[39;00m LinearRegression\n\u001b[1;32m----> 4\u001b[0m \u001b[38;5;28;01mfrom\u001b[39;00m \u001b[38;5;21;01mprefect\u001b[39;00m \u001b[38;5;28;01mimport\u001b[39;00m Flow, task\n\u001b[0;32m      5\u001b[0m \u001b[38;5;28;01mimport\u001b[39;00m \u001b[38;5;21;01mmlflow\u001b[39;00m\n\u001b[0;32m      6\u001b[0m \u001b[38;5;28;01mimport\u001b[39;00m \u001b[38;5;21;01mmlflow\u001b[39;00m\u001b[38;5;21;01m.\u001b[39;00m\u001b[38;5;21;01msklearn\u001b[39;00m\n",
      "\u001b[1;31mModuleNotFoundError\u001b[0m: No module named 'prefect'"
     ]
    }
   ],
   "source": [
    "import pandas as pd\n",
    "from sklearn.feature_extraction import DictVectorizer\n",
    "from sklearn.linear_model import LinearRegression\n",
    "from prefect import Flow, task\n",
    "import mlflow\n",
    "import mlflow.sklearn\n",
    "\n",
    "# Initialize MLFlow tracking\n",
    "# mlflow.set_tracking_uri(\"http://localhost:5000\")  # Change the URI as per your MLFlow setup\n",
    "\n",
    "# @task\n",
    "def read_data(filename: str) -> pd.DataFrame:\n",
    "    \"\"\"Read data into DataFrame\"\"\"\n",
    "    df = pd.read_parquet(filename)\n",
    "\n",
    "    df.tpep_dropoff_datetime = pd.to_datetime(df.tpep_dropoff_datetime)\n",
    "    df.tpep_pickup_datetime = pd.to_datetime(df.tpep_pickup_datetime)\n",
    "\n",
    "    df['duration'] = df.tpep_dropoff_datetime - df.tpep_pickup_datetime\n",
    "    df.duration = df.duration.apply(lambda td: td.total_seconds() / 60)\n",
    "\n",
    "    df = df[(df.duration >= 1) & (df.duration <= 60)]\n",
    "\n",
    "    categorical = [\"PULocationID\", \"DOLocationID\"]\n",
    "    df[categorical] = df[categorical].astype(str)\n",
    "\n",
    "    return df\n",
    "\n",
    "# @task\n",
    "def train_model(df: pd.DataFrame, feature_column: str) -> (LinearRegression, float):\n",
    "    # Extract the feature column\n",
    "    features = df[feature_column].astype(str)\n",
    "\n",
    "    # Convert to list of dictionaries\n",
    "    feature_dicts = features.apply(lambda x: {'location': x}).tolist()\n",
    "\n",
    "    # Fit a DictVectorizer\n",
    "    vec = DictVectorizer(sparse=True)  # Use sparse matrix\n",
    "    X = vec.fit_transform(feature_dicts)\n",
    "\n",
    "    # Train a linear regression model\n",
    "    model = LinearRegression()\n",
    "    model.fit(X, df['total_amount'])\n",
    "\n",
    "    # Log the model with MLFlow\n",
    "    with mlflow.start_run():\n",
    "        mlflow.sklearn.log_model(model, \"model\")\n",
    "        mlflow.log_param(\"intercept\", model.intercept_)\n",
    "\n",
    "    return model, model.intercept_\n",
    "\n",
    "file_path = r'D:\\github\\mlops-zoomcamp-course\\module-03\\mlops-prefect\\homework_run\\data\\yellow_tripdata_2023-03.parquet'\n",
    "\n",
    "# with Flow(\"train-linear-regression\") as flow:\n",
    "data = read_data(file_path)\n",
    "model, _ = train_model(data, 'PULocationID')\n",
    "\n",
    "# # Run the flow\n",
    "# flow.run()\n"
   ]
  },
  {
   "cell_type": "code",
   "execution_count": 2,
   "metadata": {},
   "outputs": [],
   "source": [
    "def read_data(filename: str) -> pd.DataFrame:\n",
    "    \"\"\"Read data into DataFrame\"\"\"\n",
    "    df = pd.read_parquet(filename)\n",
    "\n",
    "    df.tpep_dropoff_datetime = pd.to_datetime(df.tpep_dropoff_datetime)\n",
    "    df.tpep_pickup_datetime = pd.to_datetime(df.tpep_pickup_datetime)\n",
    "\n",
    "    df['duration'] = df.tpep_dropoff_datetime - df.tpep_pickup_datetime\n",
    "    df.duration = df.duration.apply(lambda td: td.total_seconds() / 60)\n",
    "\n",
    "    df = df[(df.duration >= 1) & (df.duration <= 60)]\n",
    "\n",
    "    categorical = [\"PULocationID\", \"DOLocationID\"]\n",
    "    df[categorical] = df[categorical].astype(str)\n",
    "\n",
    "    return df\n",
    "\n",
    "# @task\n",
    "def train_model(df: pd.DataFrame, feature_column: str) -> (LinearRegression, float):\n",
    "    # Extract the feature column\n",
    "    features = df[feature_column].astype(str)\n",
    "\n",
    "    # Convert to list of dictionaries\n",
    "    feature_dicts = features.apply(lambda x: {'location': x}).tolist()\n",
    "\n",
    "    # Fit a DictVectorizer\n",
    "    vec = DictVectorizer(sparse=True)  # Use sparse matrix\n",
    "    X = vec.fit_transform(feature_dicts)\n",
    "\n",
    "    # Train a linear regression model\n",
    "    model = LinearRegression()\n",
    "    model.fit(X, df['total_amount'])"
   ]
  },
  {
   "cell_type": "code",
   "execution_count": 3,
   "metadata": {},
   "outputs": [
    {
     "ename": "TypeError",
     "evalue": "cannot unpack non-iterable NoneType object",
     "output_type": "error",
     "traceback": [
      "\u001b[1;31m---------------------------------------------------------------------------\u001b[0m",
      "\u001b[1;31mTypeError\u001b[0m                                 Traceback (most recent call last)",
      "Cell \u001b[1;32mIn[3], line 5\u001b[0m\n\u001b[0;32m      3\u001b[0m \u001b[38;5;66;03m# with Flow(\"train-linear-regression\") as flow:\u001b[39;00m\n\u001b[0;32m      4\u001b[0m data \u001b[38;5;241m=\u001b[39m read_data(file_path)\n\u001b[1;32m----> 5\u001b[0m model, _ \u001b[38;5;241m=\u001b[39m train_model(data, \u001b[38;5;124m'\u001b[39m\u001b[38;5;124mPULocationID\u001b[39m\u001b[38;5;124m'\u001b[39m)\n",
      "\u001b[1;31mTypeError\u001b[0m: cannot unpack non-iterable NoneType object"
     ]
    }
   ],
   "source": [
    "file_path = r'D:\\github\\mlops-zoomcamp-course\\module-03\\mlops-prefect\\homework_run\\data\\yellow_tripdata_2023-03.parquet'\n",
    "\n",
    "# with Flow(\"train-linear-regression\") as flow:\n",
    "data = read_data(file_path)\n",
    "model, _ = train_model(data, 'PULocationID')\n"
   ]
  }
 ],
 "metadata": {
  "kernelspec": {
   "display_name": "module-02-jXzagZlw",
   "language": "python",
   "name": "python3"
  },
  "language_info": {
   "codemirror_mode": {
    "name": "ipython",
    "version": 3
   },
   "file_extension": ".py",
   "mimetype": "text/x-python",
   "name": "python",
   "nbconvert_exporter": "python",
   "pygments_lexer": "ipython3",
   "version": "3.10.11"
  }
 },
 "nbformat": 4,
 "nbformat_minor": 2
}
