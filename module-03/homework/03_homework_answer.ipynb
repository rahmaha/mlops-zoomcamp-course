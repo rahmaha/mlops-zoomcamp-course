{
 "cells": [
  {
   "cell_type": "markdown",
   "metadata": {},
   "source": [
    "## Hmework Answer Module 03\n",
    "\n",
    "by Rahma Hayuning Astuti\n",
    "\n",
    "you can find the codes and files in mlops/homework_03/ folders"
   ]
  },
  {
   "cell_type": "markdown",
   "metadata": {},
   "source": [
    "### Question 1 Run Mage\n",
    "\n",
    "What's the version of Mage we run?\n",
    "Answer: `v0.9.71`\n"
   ]
  },
  {
   "cell_type": "markdown",
   "metadata": {},
   "source": [
    "### Question 2. Creating Project\n",
    "\n",
    "Now let's create a new project. We can call it \"homework_03\", for example.\n",
    "\n",
    "How many lines are in the created metadata.yaml file?\n",
    "\n",
    "Answer: `55`"
   ]
  },
  {
   "cell_type": "markdown",
   "metadata": {},
   "source": [
    "### Question 3. Creating a pipeline\n",
    "\n",
    "In this block, we will read the March 2023 Yellow taxi trips data.\n",
    "\n",
    "How many records did we load?\n",
    "Answer: `3403766 rows x 19 columns`"
   ]
  },
  {
   "cell_type": "markdown",
   "metadata": {},
   "source": [
    "## Important\n",
    "From Question 4, I will use Prefect, do to my laptop has problem using Mega"
   ]
  },
  {
   "cell_type": "markdown",
   "metadata": {},
   "source": [
    "### Question 4. Data preparation"
   ]
  },
  {
   "cell_type": "code",
   "execution_count": null,
   "metadata": {
    "vscode": {
     "languageId": "plaintext"
    }
   },
   "outputs": [],
   "source": [
    "Let's use the same logic for preparing the data we used previously. We will need to create a transformer code block and put this code there.\n",
    "\n",
    "This is what we used (adjusted for yellow dataset):\n",
    "\n",
    "```python\n",
    "def read_dataframe(filename):\n",
    "    df = pd.read_parquet(filename)\n",
    "\n",
    "    df.tpep_dropoff_datetime = pd.to_datetime(df.tpep_dropoff_datetime)\n",
    "    df.tpep_pickup_datetime = pd.to_datetime(df.tpep_pickup_datetime)\n",
    "\n",
    "    df['duration'] = df.tpep_dropoff_datetime - df.tpep_pickup_datetime\n",
    "    df.duration = df.duration.dt.total_seconds() / 60\n",
    "\n",
    "    df = df[(df.duration >= 1) & (df.duration <= 60)]\n",
    "\n",
    "    categorical = ['PULocationID', 'DOLocationID']\n",
    "    df[categorical] = df[categorical].astype(str)\n",
    "    \n",
    "    return df\n",
    "```\n",
    "\n",
    "Let's adjust it and apply to the data we loaded in question 3. \n",
    "\n",
    "What's the size of the result? \n",
    "\n",
    "file for the answer in '.\\homework_run\\question-4.py'\n",
    "Answer: (3316216, 20)"
   ]
  },
  {
   "cell_type": "markdown",
   "metadata": {},
   "source": [
    "## Question 5. Train Model\n",
    "\n",
    "We will now train a linear regression model using the same code as in homework 1\n",
    "\n",
    "* Fit a dict vectorizer\n",
    "* Train a linear regression with default parameres \n",
    "* Use pick up and drop off locations separately, don't create a combination feature\n",
    "\n",
    "Let's now use it in the pipeline. We will need to create another transformation block, and return both the dict vectorizer and the model\n",
    "\n",
    "What's the intercept of the model? \n",
    "Hint: print the `intercept_` field in the code block\n",
    "\n",
    "Answer: the close one 31. \n",
    "\n",
    "I honestly doesn't understand this question. I also get different results \n",
    "\n",
    "this is what I get\n",
    "Intercept of the model: 35.249608633278925\n",
    "Intercept of the model: 47.970914880498995"
   ]
  },
  {
   "cell_type": "markdown",
   "metadata": {},
   "source": [
    "## Question 6. Register the model \n",
    "\n",
    "I don't know. I tried my best to find but it keeps error. huft. I will answer it as 14,534"
   ]
  }
 ],
 "metadata": {
  "language_info": {
   "name": "python"
  }
 },
 "nbformat": 4,
 "nbformat_minor": 2
}
